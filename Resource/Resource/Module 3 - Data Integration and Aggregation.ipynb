{
 "cells": [
  {
   "cell_type": "code",
   "execution_count": 1,
   "id": "e9483ed3-2386-41b3-8e27-5dec74662a5b",
   "metadata": {},
   "outputs": [
    {
     "name": "stderr",
     "output_type": "stream",
     "text": [
      "25/02/28 09:03:58 WARN SparkSession: Using an existing Spark session; only runtime SQL configurations will take effect.\n"
     ]
    }
   ],
   "source": [
    "from pyspark.sql import SparkSession\n",
    "\n",
    "spark = SparkSession.builder \\\n",
    ".appName('OlistData') \\\n",
    ".getOrCreate()"
   ]
  },
  {
   "cell_type": "code",
   "execution_count": 25,
   "id": "5576e226-05f3-4d5c-b0b4-275c6494d52a",
   "metadata": {},
   "outputs": [],
   "source": [
    "hdfs_path = '/home/jupyter/data/Datasets/2/'"
   ]
  },
  {
   "cell_type": "code",
   "execution_count": 26,
   "id": "572c6c15-8a2a-4eb0-bf24-648280118e41",
   "metadata": {},
   "outputs": [],
   "source": [
    "customers_df = spark.read.csv(hdfs_path + 'olist_customers_dataset.csv',header=True,inferSchema=True)\n",
    "orders_df = spark.read.csv(hdfs_path + 'olist_orders_dataset.csv',header=True,inferSchema=True)\n",
    "order_item_df = spark.read.csv(hdfs_path + 'olist_order_items_dataset.csv',header=True,inferSchema=True)\n",
    "payments_df = spark.read.csv(hdfs_path + 'olist_order_payments_dataset.csv',header=True,inferSchema=True)\n",
    "reviews_df = spark.read.csv(hdfs_path + 'olist_order_reviews_dataset.csv',header=True,inferSchema=True)\n",
    "products_df = spark.read.csv(hdfs_path + 'olist_products_dataset.csv',header=True,inferSchema=True)\n",
    "sellers_df = spark.read.csv(hdfs_path + 'olist_sellers_dataset.csv',header=True,inferSchema=True)\n",
    "geolocation_df = spark.read.csv(hdfs_path + 'olist_geolocation_dataset.csv',header=True,inferSchema=True)\n",
    "category_translation_df = spark.read.csv(hdfs_path + 'product_category_name_translation.csv',header=True,inferSchema=True)"
   ]
  },
  {
   "cell_type": "code",
   "execution_count": 27,
   "id": "13aebaa8-9610-461c-9a7c-c3d923a080a7",
   "metadata": {},
   "outputs": [
    {
     "data": {
      "text/plain": [
       "DataFrame[order_id: string, order_item_id: int, product_id: string, seller_id: string, shipping_limit_date: timestamp, price: double, freight_value: double]"
      ]
     },
     "execution_count": 27,
     "metadata": {},
     "output_type": "execute_result"
    }
   ],
   "source": [
    "# Cache Frequently used Data for Better Performance\n",
    "\n",
    "orders_df.cache()\n",
    "customers_df.cache()\n",
    "order_item_df.cache()"
   ]
  },
  {
   "cell_type": "code",
   "execution_count": null,
   "id": "55d95414-28e9-4173-b2d2-aca82051bf15",
   "metadata": {},
   "outputs": [],
   "source": []
  },
  {
   "cell_type": "code",
   "execution_count": 28,
   "id": "5817b15a-d0c7-48c2-be03-30903b5fb776",
   "metadata": {
    "tags": []
   },
   "outputs": [],
   "source": [
    "orders_items_joined_df = orders_df.join(order_item_df,'order_id','inner')"
   ]
  },
  {
   "cell_type": "code",
   "execution_count": 29,
   "id": "772ce01b-c047-485b-8c9f-9b2af7f2922c",
   "metadata": {
    "tags": []
   },
   "outputs": [],
   "source": [
    "orders_items_products_df = orders_items_joined_df.join(products_df,'product_id','inner')"
   ]
  },
  {
   "cell_type": "code",
   "execution_count": 30,
   "id": "bcc6fd09-bcb2-4e34-b372-f25822e77bec",
   "metadata": {},
   "outputs": [],
   "source": [
    "orders_items_products_sellers_df = orders_items_products_df.join(sellers_df,'seller_id','inner')"
   ]
  },
  {
   "cell_type": "code",
   "execution_count": 31,
   "id": "2516bfb3-b398-4e53-b9b0-924b97e27fe5",
   "metadata": {},
   "outputs": [],
   "source": [
    "full_orders_df = orders_items_products_sellers_df.join(customers_df,'customer_id','inner')"
   ]
  },
  {
   "cell_type": "code",
   "execution_count": 32,
   "id": "f7b92792-8d00-4143-9abe-c8ce47add1fd",
   "metadata": {
    "tags": []
   },
   "outputs": [],
   "source": [
    "# GEolocation Data\n",
    "\n",
    "full_orders_df = full_orders_df.join(geolocation_df,full_orders_df.customer_zip_code_prefix == geolocation_df.geolocation_zip_code_prefix,'left')"
   ]
  },
  {
   "cell_type": "code",
   "execution_count": 33,
   "id": "546c0d83-f33a-4047-99a3-1b14c11a7646",
   "metadata": {},
   "outputs": [],
   "source": [
    "full_orders_df = full_orders_df.join(reviews_df,'order_id','left')"
   ]
  },
  {
   "cell_type": "code",
   "execution_count": 34,
   "id": "075f420a-cabc-4f82-8129-b0d6bdf65f3c",
   "metadata": {},
   "outputs": [],
   "source": [
    "full_orders_df = full_orders_df.join(payments_df,'order_id','left')"
   ]
  },
  {
   "cell_type": "code",
   "execution_count": 35,
   "id": "57c8181c-63ab-4649-8b07-a7ad8add9481",
   "metadata": {},
   "outputs": [
    {
     "data": {
      "text/plain": [
       "DataFrame[order_id: string, customer_id: string, seller_id: string, product_id: string, order_status: string, order_purchase_timestamp: timestamp, order_approved_at: timestamp, order_delivered_carrier_date: timestamp, order_delivered_customer_date: timestamp, order_estimated_delivery_date: timestamp, order_item_id: int, shipping_limit_date: timestamp, price: double, freight_value: double, product_category_name: string, product_name_lenght: int, product_description_lenght: int, product_photos_qty: int, product_weight_g: int, product_length_cm: int, product_height_cm: int, product_width_cm: int, seller_zip_code_prefix: int, seller_city: string, seller_state: string, customer_unique_id: string, customer_zip_code_prefix: int, customer_city: string, customer_state: string, geolocation_zip_code_prefix: int, geolocation_lat: double, geolocation_lng: double, geolocation_city: string, geolocation_state: string, review_id: string, review_score: string, review_comment_title: string, review_comment_message: string, review_creation_date: string, review_answer_timestamp: string, payment_sequential: int, payment_type: string, payment_installments: int, payment_value: double]"
      ]
     },
     "execution_count": 35,
     "metadata": {},
     "output_type": "execute_result"
    }
   ],
   "source": [
    "full_orders_df.cache()"
   ]
  },
  {
   "cell_type": "code",
   "execution_count": 36,
   "id": "51c9b1b8-3227-4dee-a840-e90ad9cb733d",
   "metadata": {},
   "outputs": [],
   "source": [
    "from pyspark.sql.functions import *"
   ]
  },
  {
   "cell_type": "code",
   "execution_count": 37,
   "id": "8ac50932-fc34-435b-a294-1ea600006959",
   "metadata": {},
   "outputs": [
    {
     "name": "stdout",
     "output_type": "stream",
     "text": [
      "root\n",
      " |-- order_id: string (nullable = true)\n",
      " |-- customer_id: string (nullable = true)\n",
      " |-- seller_id: string (nullable = true)\n",
      " |-- product_id: string (nullable = true)\n",
      " |-- order_status: string (nullable = true)\n",
      " |-- order_purchase_timestamp: timestamp (nullable = true)\n",
      " |-- order_approved_at: timestamp (nullable = true)\n",
      " |-- order_delivered_carrier_date: timestamp (nullable = true)\n",
      " |-- order_delivered_customer_date: timestamp (nullable = true)\n",
      " |-- order_estimated_delivery_date: timestamp (nullable = true)\n",
      " |-- order_item_id: integer (nullable = true)\n",
      " |-- shipping_limit_date: timestamp (nullable = true)\n",
      " |-- price: double (nullable = true)\n",
      " |-- freight_value: double (nullable = true)\n",
      " |-- product_category_name: string (nullable = true)\n",
      " |-- product_name_lenght: integer (nullable = true)\n",
      " |-- product_description_lenght: integer (nullable = true)\n",
      " |-- product_photos_qty: integer (nullable = true)\n",
      " |-- product_weight_g: integer (nullable = true)\n",
      " |-- product_length_cm: integer (nullable = true)\n",
      " |-- product_height_cm: integer (nullable = true)\n",
      " |-- product_width_cm: integer (nullable = true)\n",
      " |-- seller_zip_code_prefix: integer (nullable = true)\n",
      " |-- seller_city: string (nullable = true)\n",
      " |-- seller_state: string (nullable = true)\n",
      " |-- customer_unique_id: string (nullable = true)\n",
      " |-- customer_zip_code_prefix: integer (nullable = true)\n",
      " |-- customer_city: string (nullable = true)\n",
      " |-- customer_state: string (nullable = true)\n",
      " |-- geolocation_zip_code_prefix: integer (nullable = true)\n",
      " |-- geolocation_lat: double (nullable = true)\n",
      " |-- geolocation_lng: double (nullable = true)\n",
      " |-- geolocation_city: string (nullable = true)\n",
      " |-- geolocation_state: string (nullable = true)\n",
      " |-- review_id: string (nullable = true)\n",
      " |-- review_score: string (nullable = true)\n",
      " |-- review_comment_title: string (nullable = true)\n",
      " |-- review_comment_message: string (nullable = true)\n",
      " |-- review_creation_date: string (nullable = true)\n",
      " |-- review_answer_timestamp: string (nullable = true)\n",
      " |-- payment_sequential: integer (nullable = true)\n",
      " |-- payment_type: string (nullable = true)\n",
      " |-- payment_installments: integer (nullable = true)\n",
      " |-- payment_value: double (nullable = true)\n",
      "\n"
     ]
    }
   ],
   "source": [
    "full_orders_df.printSchema()"
   ]
  },
  {
   "cell_type": "code",
   "execution_count": 38,
   "id": "635ab616-a8f7-427a-8df6-1294190373b3",
   "metadata": {},
   "outputs": [],
   "source": [
    "# Total Revenues Per Seller\n",
    "\n",
    "\n",
    "seller_revenue_df = full_orders_df.groupBy('seller_id').agg(sum('price'))"
   ]
  },
  {
   "cell_type": "code",
   "execution_count": 39,
   "id": "17b03748-1119-49d6-8a69-b3f7f512e923",
   "metadata": {},
   "outputs": [
    {
     "name": "stdout",
     "output_type": "stream",
     "text": [
      "+--------------------+------------------+\n",
      "|           seller_id|        sum(price)|\n",
      "+--------------------+------------------+\n",
      "|0ea22c1cfbdc755f8...|1747345.2000000048|\n",
      "|8e6cc767478edae94...| 1145757.400000001|\n",
      "|ff063b022a9a0aab9...|         1860394.0|\n",
      "|7aa4334be125fcdd2...|        2509294.49|\n",
      "|602044f2c16190c2c...|  511238.809999999|\n",
      "+--------------------+------------------+\n",
      "only showing top 5 rows\n",
      "\n"
     ]
    }
   ],
   "source": [
    "seller_revenue_df.show(5)"
   ]
  },
  {
   "cell_type": "code",
   "execution_count": null,
   "id": "eb8f9ac0-6f60-4a5d-aaa8-b3ff9c503d3f",
   "metadata": {},
   "outputs": [],
   "source": []
  },
  {
   "cell_type": "code",
   "execution_count": null,
   "id": "c76f99cb-5da8-4f1d-b1bc-2f894f208e75",
   "metadata": {},
   "outputs": [],
   "source": [
    "# Total Orders Per Custoemr\n",
    "# Average Review Score Per Seller\n",
    "# Most Sold Products ( Top 10 )\n",
    "# Top Custoemrs By Spending"
   ]
  },
  {
   "cell_type": "code",
   "execution_count": null,
   "id": "75c7952b-dedb-4b8a-a663-b728043b3771",
   "metadata": {},
   "outputs": [],
   "source": []
  },
  {
   "cell_type": "markdown",
   "id": "a38293d1-ff52-4ada-8327-fd344c3d2c8c",
   "metadata": {},
   "source": [
    "# Optimized Joins For Data integration"
   ]
  },
  {
   "cell_type": "code",
   "execution_count": 50,
   "id": "4da59c1b-8345-4b25-a7e5-863a82311c98",
   "metadata": {},
   "outputs": [],
   "source": [
    "from pyspark.sql.functions import *"
   ]
  },
  {
   "cell_type": "code",
   "execution_count": 51,
   "id": "34efa9e6-53fe-4f85-9449-58d5228cd780",
   "metadata": {
    "tags": []
   },
   "outputs": [],
   "source": [
    "orders_items_joined_df = orders_df.join(order_item_df,'order_id','inner')"
   ]
  },
  {
   "cell_type": "code",
   "execution_count": 52,
   "id": "0d33d07e-df91-414f-9535-38a038850a39",
   "metadata": {
    "tags": []
   },
   "outputs": [],
   "source": [
    "orders_items_products_df = orders_items_joined_df.join(products_df,'product_id','inner')"
   ]
  },
  {
   "cell_type": "code",
   "execution_count": 53,
   "id": "7a3ec1e2-8d50-4a81-a2d3-6534c9c10a0f",
   "metadata": {},
   "outputs": [],
   "source": [
    "orders_items_products_sellers_df = orders_items_products_df.join(broadcast(sellers_df),'seller_id','inner')"
   ]
  },
  {
   "cell_type": "code",
   "execution_count": 54,
   "id": "056ead77-83a7-4ff2-88d3-a04196dc644b",
   "metadata": {},
   "outputs": [],
   "source": [
    "full_orders_df = orders_items_products_sellers_df.join(customers_df,'customer_id','inner')"
   ]
  },
  {
   "cell_type": "code",
   "execution_count": 55,
   "id": "fa3fb487-99c6-4628-8694-2df43d1193f8",
   "metadata": {
    "tags": []
   },
   "outputs": [],
   "source": [
    "# GEolocation Data\n",
    "\n",
    "full_orders_df = full_orders_df.join(broadcast(geolocation_df),full_orders_df.customer_zip_code_prefix == geolocation_df.geolocation_zip_code_prefix,'left')"
   ]
  },
  {
   "cell_type": "code",
   "execution_count": 56,
   "id": "e93f986d-e6dd-453e-b32b-8b2e46d4b1b7",
   "metadata": {},
   "outputs": [],
   "source": [
    "full_orders_df = full_orders_df.join(broadcast(reviews_df),'order_id','left')"
   ]
  },
  {
   "cell_type": "code",
   "execution_count": 57,
   "id": "60401598-ea05-4c6d-be50-76b91adbcc4d",
   "metadata": {},
   "outputs": [],
   "source": [
    "full_orders_df = full_orders_df.join(payments_df,'order_id','left')"
   ]
  },
  {
   "cell_type": "code",
   "execution_count": 58,
   "id": "22e88237-eb31-47ea-b13a-2ede518d7ab2",
   "metadata": {},
   "outputs": [
    {
     "data": {
      "text/plain": [
       "DataFrame[order_id: string, customer_id: string, seller_id: string, product_id: string, order_status: string, order_purchase_timestamp: timestamp, order_approved_at: timestamp, order_delivered_carrier_date: timestamp, order_delivered_customer_date: timestamp, order_estimated_delivery_date: timestamp, order_item_id: int, shipping_limit_date: timestamp, price: double, freight_value: double, product_category_name: string, product_name_lenght: int, product_description_lenght: int, product_photos_qty: int, product_weight_g: int, product_length_cm: int, product_height_cm: int, product_width_cm: int, seller_zip_code_prefix: int, seller_city: string, seller_state: string, customer_unique_id: string, customer_zip_code_prefix: int, customer_city: string, customer_state: string, geolocation_zip_code_prefix: int, geolocation_lat: double, geolocation_lng: double, geolocation_city: string, geolocation_state: string, review_id: string, review_score: string, review_comment_title: string, review_comment_message: string, review_creation_date: string, review_answer_timestamp: string, payment_sequential: int, payment_type: string, payment_installments: int, payment_value: double]"
      ]
     },
     "execution_count": 58,
     "metadata": {},
     "output_type": "execute_result"
    }
   ],
   "source": [
    "full_orders_df.cache()"
   ]
  },
  {
   "cell_type": "markdown",
   "id": "bed18eac-e133-4990-b412-24f9d3a16321",
   "metadata": {},
   "source": [
    "# Aggregation"
   ]
  },
  {
   "cell_type": "code",
   "execution_count": 59,
   "id": "f6326ab1-0caa-40a9-837b-a1c1545769c9",
   "metadata": {},
   "outputs": [
    {
     "name": "stdout",
     "output_type": "stream",
     "text": [
      "+--------------------+------------+\n",
      "|         customer_id|total_orders|\n",
      "+--------------------+------------+\n",
      "|351e40989da90e704...|       11427|\n",
      "|50920f8cd0681fd86...|       10752|\n",
      "|9b43e2a62de9bab3a...|        8556|\n",
      "|270c23a11d024a44c...|        8001|\n",
      "|5c87184371002d49e...|        6876|\n",
      "+--------------------+------------+\n",
      "only showing top 5 rows\n",
      "\n"
     ]
    }
   ],
   "source": [
    "# Total Orders Per Customer\n",
    "\n",
    "customer_order_count_df = full_orders_df.groupBy('customer_id')\\\n",
    ".agg(count('order_id').alias('total_orders'))\\\n",
    ".orderBy(desc('total_orders'))\n",
    "         \n",
    "customer_order_count_df.show(5)"
   ]
  },
  {
   "cell_type": "code",
   "execution_count": 60,
   "id": "b6aba32e-6a9e-41ef-910b-ca4cb75dbae8",
   "metadata": {},
   "outputs": [
    {
     "name": "stdout",
     "output_type": "stream",
     "text": [
      "+--------------------+----------------+\n",
      "|           seller_id|avg_review_score|\n",
      "+--------------------+----------------+\n",
      "|e94b64dc6979b302a...|             5.0|\n",
      "|1e47defeeadeca0e9...|             5.0|\n",
      "|f26d70155c2b6326f...|             5.0|\n",
      "|a56a8043ebf66e421...|             5.0|\n",
      "|31e60bf8d103ce479...|             5.0|\n",
      "|5733d806668f8712c...|             5.0|\n",
      "|53b0300ca793f9834...|             5.0|\n",
      "|c747d5b92c7648417...|             5.0|\n",
      "|32e5635e63cb374eb...|             5.0|\n",
      "|1d953075c2f0dd990...|             5.0|\n",
      "|2d20f1cd18725c911...|             5.0|\n",
      "|761681a821d8275bc...|             5.0|\n",
      "|528ce32f560edd11a...|             5.0|\n",
      "|297d5eccd19fa9a83...|             5.0|\n",
      "|1cd9e0cc1839d5551...|             5.0|\n",
      "|64c9a1db4e73e19aa...|             5.0|\n",
      "|934ed5cd1b9c1c738...|             5.0|\n",
      "|89757206b887aed36...|             5.0|\n",
      "|b3e2faf2c1004d674...|             5.0|\n",
      "|3c88ed2e76a224793...|             5.0|\n",
      "+--------------------+----------------+\n",
      "only showing top 20 rows\n",
      "\n"
     ]
    }
   ],
   "source": [
    "#Average Review Score Per Seller\n",
    "\n",
    "seller_review_df = full_orders_df.groupBy('seller_id')\\\n",
    ".agg(avg('review_score').alias('avg_review_score'))\\\n",
    ".orderBy(desc('avg_review_score'))\n",
    "\n",
    "seller_review_df.show()"
   ]
  },
  {
   "cell_type": "code",
   "execution_count": 61,
   "id": "a7133b34-b20f-454a-9871-55f6bb7f6aa3",
   "metadata": {},
   "outputs": [
    {
     "name": "stdout",
     "output_type": "stream",
     "text": [
      "+--------------------+----------+\n",
      "|          product_id|total_sold|\n",
      "+--------------------+----------+\n",
      "|aca2eb7d00ea1a7b8...|     86740|\n",
      "|422879e10f4668299...|     81110|\n",
      "|99a4788cb24856965...|     78775|\n",
      "|389d119b48cf3043d...|     60248|\n",
      "|d1c427060a0f73f6b...|     59274|\n",
      "|368c6c730842d7801...|     58358|\n",
      "|53759a2ecddad2bb8...|     52654|\n",
      "|53b36df67ebb7c415...|     52105|\n",
      "|154e7e31ebfa09220...|     42700|\n",
      "|3dd2a17168ec895c7...|     40787|\n",
      "+--------------------+----------+\n",
      "\n"
     ]
    }
   ],
   "source": [
    "# Top 10 Most Sold Products\n",
    "\n",
    "top_products_df = full_orders_df.groupBy('product_id')\\\n",
    ".agg(count('order_id').alias('total_sold'))\\\n",
    ".orderBy(desc('total_sold'))\\\n",
    ".limit(10)\n",
    "\n",
    "top_products_df.show()"
   ]
  },
  {
   "cell_type": "code",
   "execution_count": null,
   "id": "0a160c61-46a8-413d-9536-927271fba7eb",
   "metadata": {},
   "outputs": [],
   "source": [
    "# Top 10 Customer By Spending"
   ]
  },
  {
   "cell_type": "code",
   "execution_count": null,
   "id": "bc76dded-830f-4c6a-8368-90db1dd7483d",
   "metadata": {},
   "outputs": [],
   "source": []
  },
  {
   "cell_type": "markdown",
   "id": "0a2a6563-8b34-45af-bc3c-9f96e18e14fa",
   "metadata": {},
   "source": [
    "# Window Function and Ranking"
   ]
  },
  {
   "cell_type": "code",
   "execution_count": 62,
   "id": "a373af53-93e0-4e64-acdf-3e13772f5312",
   "metadata": {},
   "outputs": [],
   "source": [
    "from pyspark.sql.window import Window"
   ]
  },
  {
   "cell_type": "code",
   "execution_count": 63,
   "id": "e4274904-d533-4487-9c28-8ed5dbe6c92b",
   "metadata": {},
   "outputs": [],
   "source": [
    "\n",
    "# Dense Rank for Sellers Based on Revenue\n",
    "\n",
    "window_spec = Window.partitionBy('seller_id').orderBy(desc('price'))"
   ]
  },
  {
   "cell_type": "code",
   "execution_count": 64,
   "id": "17253243-3306-472d-9d9a-358164be9fc8",
   "metadata": {},
   "outputs": [
    {
     "name": "stdout",
     "output_type": "stream",
     "text": [
      "+--------------------+-----+----+\n",
      "|           seller_id|price|rank|\n",
      "+--------------------+-----+----+\n",
      "|001cca7ae9ae17fb1...|199.0|   1|\n",
      "|001cca7ae9ae17fb1...|199.0|   1|\n",
      "|001cca7ae9ae17fb1...|199.0|   1|\n",
      "|001cca7ae9ae17fb1...|199.0|   1|\n",
      "|001cca7ae9ae17fb1...|199.0|   1|\n",
      "|001cca7ae9ae17fb1...|199.0|   1|\n",
      "|001cca7ae9ae17fb1...|199.0|   1|\n",
      "|001cca7ae9ae17fb1...|199.0|   1|\n",
      "|001cca7ae9ae17fb1...|199.0|   1|\n",
      "|001cca7ae9ae17fb1...|199.0|   1|\n",
      "|001cca7ae9ae17fb1...|199.0|   1|\n",
      "|001cca7ae9ae17fb1...|199.0|   1|\n",
      "|001cca7ae9ae17fb1...|199.0|   1|\n",
      "|001cca7ae9ae17fb1...|199.0|   1|\n",
      "|001cca7ae9ae17fb1...|199.0|   1|\n",
      "|001cca7ae9ae17fb1...|199.0|   1|\n",
      "|001cca7ae9ae17fb1...|199.0|   1|\n",
      "|001cca7ae9ae17fb1...|199.0|   1|\n",
      "|001cca7ae9ae17fb1...|199.0|   1|\n",
      "|001cca7ae9ae17fb1...|199.0|   1|\n",
      "+--------------------+-----+----+\n",
      "only showing top 20 rows\n",
      "\n"
     ]
    }
   ],
   "source": [
    "# Rank Top Selling Products Per seller\n",
    "\n",
    "top_seller_products_df = full_orders_df.withColumn('rank',rank().over(window_spec)).filter(col('rank')<=5)\n",
    "\n",
    "top_seller_products_df.select('seller_id','price','rank').show()"
   ]
  },
  {
   "cell_type": "code",
   "execution_count": null,
   "id": "981e8b8a-b038-4ea0-8d3e-0f0b66e3bbf2",
   "metadata": {},
   "outputs": [],
   "source": []
  },
  {
   "cell_type": "code",
   "execution_count": null,
   "id": "5ee564f1-79b1-4f8d-8a4d-ed214cc7744e",
   "metadata": {},
   "outputs": [],
   "source": [
    "\n",
    "# Dense Rank for Sellers Based on Revenue\n"
   ]
  },
  {
   "cell_type": "code",
   "execution_count": null,
   "id": "452fa4f5-e882-4378-a645-473362cc7c87",
   "metadata": {},
   "outputs": [],
   "source": []
  },
  {
   "cell_type": "code",
   "execution_count": null,
   "id": "507db4e3-8557-4f05-bba0-248721ba6f0a",
   "metadata": {},
   "outputs": [],
   "source": []
  },
  {
   "cell_type": "code",
   "execution_count": null,
   "id": "b8db4c28-1b21-44a3-b9bf-2f60c24bc53a",
   "metadata": {},
   "outputs": [],
   "source": []
  },
  {
   "cell_type": "code",
   "execution_count": null,
   "id": "03cce008-3b50-4a5f-8eff-d6e5634b8db8",
   "metadata": {},
   "outputs": [],
   "source": []
  },
  {
   "cell_type": "code",
   "execution_count": null,
   "id": "3560314e-c325-4d0d-8a22-4e9064419dc7",
   "metadata": {},
   "outputs": [],
   "source": []
  },
  {
   "cell_type": "markdown",
   "id": "462c0a91-2a95-4444-ae84-5800141f55bf",
   "metadata": {},
   "source": [
    "# Advance Aggregation and Enrichment"
   ]
  },
  {
   "cell_type": "code",
   "execution_count": 65,
   "id": "c5eac728-15e9-4e09-8b73-0e81dfdb3bda",
   "metadata": {},
   "outputs": [
    {
     "data": {
      "text/plain": [
       "DataFrame[order_id: string, customer_id: string, seller_id: string, product_id: string, order_status: string, order_purchase_timestamp: timestamp, order_approved_at: timestamp, order_delivered_carrier_date: timestamp, order_delivered_customer_date: timestamp, order_estimated_delivery_date: timestamp, order_item_id: int, shipping_limit_date: timestamp, price: double, freight_value: double, product_category_name: string, product_name_lenght: int, product_description_lenght: int, product_photos_qty: int, product_weight_g: int, product_length_cm: int, product_height_cm: int, product_width_cm: int, seller_zip_code_prefix: int, seller_city: string, seller_state: string, customer_unique_id: string, customer_zip_code_prefix: int, customer_city: string, customer_state: string, geolocation_zip_code_prefix: int, geolocation_lat: double, geolocation_lng: double, geolocation_city: string, geolocation_state: string, review_id: string, review_score: string, review_comment_title: string, review_comment_message: string, review_creation_date: string, review_answer_timestamp: string, payment_sequential: int, payment_type: string, payment_installments: int, payment_value: double]"
      ]
     },
     "execution_count": 65,
     "metadata": {},
     "output_type": "execute_result"
    }
   ],
   "source": [
    "full_orders_df"
   ]
  },
  {
   "cell_type": "code",
   "execution_count": 66,
   "id": "543d2d79-854a-4f75-861e-9e528101e0de",
   "metadata": {},
   "outputs": [
    {
     "name": "stdout",
     "output_type": "stream",
     "text": [
      "+--------------------+------------+------------------+-------+\n",
      "|         customer_id|total_orders|       total_spent|    AOV|\n",
      "+--------------------+------------+------------------+-------+\n",
      "|d3e82ccec3cb5f956...|        6876|         6662844.0|  969.0|\n",
      "|df55c14d1476a9a34...|         743|         3565657.0| 4799.0|\n",
      "|fe5113a38e3575c04...|        2292|         3293604.0| 1437.0|\n",
      "|ec5b2ba62e5743423...|        1428|         2556120.0| 1790.0|\n",
      "|63b964e79dee32a35...|        6072|         2501664.0|  412.0|\n",
      "|46bb3c0b1a65c8399...|         748|         2336752.0| 3124.0|\n",
      "|05455dfa7cd02f13d...|        2184| 2160194.400000087|  989.1|\n",
      "|3690e975641f01bd0...|         802|         2124498.0| 2649.0|\n",
      "|349509b216bd5ec11...|         743|         1923627.0| 2589.0|\n",
      "|695476b5848d64ba0...|         687|1820543.1299999943|2649.99|\n",
      "|73236a0796f53d60d...|         832|         1755520.0| 2110.0|\n",
      "|cc803a2c412833101...|         762|         1676400.0| 2200.0|\n",
      "|1ff773612ab8934db...|        5820|1658641.7999999512| 284.99|\n",
      "|fced842c7dad61e8c...|         602|         1654898.0| 2749.0|\n",
      "|1ecb47d23dc8203cd...|        1164|1629588.3599999903|1399.99|\n",
      "|de832e8dbb1f588a4...|        2190|1584990.5999999817| 723.74|\n",
      "|803cd9b04f9cd252c...|         488|         1512312.0| 3099.0|\n",
      "|d72181923840c8895...|        2721|1488114.8999999566|  546.9|\n",
      "|06d478ba352a27a51...|        1146|         1461150.0| 1275.0|\n",
      "|0049e8442c2a3e4a8...|        1204|         1444800.0| 1200.0|\n",
      "+--------------------+------------+------------------+-------+\n",
      "only showing top 20 rows\n",
      "\n"
     ]
    }
   ],
   "source": [
    "# Total Revenue & Average Order Value (AOV) per Customer\n",
    "\n",
    "customer_spending_df = full_orders_df.groupBy('customer_id')\\\n",
    ".agg(\n",
    "    count('order_id').alias('total_orders'),\n",
    "    sum('price').alias('total_spent'),\n",
    "    round(avg('price'),2).alias('AOV')\n",
    ")\\\n",
    ".orderBy(desc('total_spent'))\n",
    "\n",
    "\n",
    "customer_spending_df.show()"
   ]
  },
  {
   "cell_type": "code",
   "execution_count": 29,
   "id": "58d48ffa-5b20-4299-87c5-b1637c69fc71",
   "metadata": {},
   "outputs": [
    {
     "data": {
      "text/plain": [
       "969.0"
      ]
     },
     "execution_count": 29,
     "metadata": {},
     "output_type": "execute_result"
    }
   ],
   "source": [
    "6662844/6876"
   ]
  },
  {
   "cell_type": "code",
   "execution_count": null,
   "id": "8327eb08-d57c-463c-8d83-0cf197eb7fe8",
   "metadata": {},
   "outputs": [],
   "source": []
  },
  {
   "cell_type": "code",
   "execution_count": 69,
   "id": "d54ab1c5-5077-4bd5-a1dd-5bc8cdd9b4a6",
   "metadata": {},
   "outputs": [],
   "source": [
    "# Seller Performance Metrics ( Revenue, Average Review, Order Count)\n",
    "\n",
    "seller_performance_df = full_orders_df.groupBy('seller_id') \\\n",
    ".agg(\n",
    "    count('order_id').alias('total_orders'),\n",
    "    sum('price').alias('total_revenue'),\n",
    "    round(avg('review_score'),2).alias('avg_review_score'),\n",
    "    round(stddev('price'),2).alias('price_variability')\n",
    ")\\\n",
    ".orderBy(desc('total_revenue'))"
   ]
  },
  {
   "cell_type": "code",
   "execution_count": 70,
   "id": "c01b2919-fafc-4690-9d9e-cb3497898946",
   "metadata": {},
   "outputs": [
    {
     "name": "stdout",
     "output_type": "stream",
     "text": [
      "+--------------------+------------+--------------------+----------------+-----------------+\n",
      "|           seller_id|total_orders|       total_revenue|avg_review_score|price_variability|\n",
      "+--------------------+------------+--------------------+----------------+-----------------+\n",
      "|4869f7a5dfa277a7d...|      184587| 3.613871732000001E7|            4.09|           111.65|\n",
      "|53243585a1d6dc264...|       54514| 3.429159294999997E7|            4.12|           499.65|\n",
      "|4a3ca9315b744ce9f...|      330661| 3.375957083999998E7|            3.77|            59.37|\n",
      "|7c67e1448b00f6e96...|      233306|3.2282321789999593E7|            3.42|            50.39|\n",
      "|fa1c13f2614d7b5c4...|       87686|3.0139386310000043E7|            4.38|            307.7|\n",
      "|da8622b14eb17ae28...|      264433|2.9857669729999945E7|            3.98|            72.92|\n",
      "|7e93a43ef30c4f03f...|       50226| 2.631570629999995E7|            4.15|           377.24|\n",
      "|1025f0e2d44d7041d...|      229587|2.2937518519999865E7|            3.89|             84.3|\n",
      "|46dc3b2cc0980fb8e...|       90426| 2.179177328999988E7|            4.18|           187.49|\n",
      "|955fee9216a65b617...|      232364|2.0964410669999987E7|            4.04|            84.94|\n",
      "|7a67c85e85bb2ce85...|      167231|       2.031279489E7|            4.26|            56.23|\n",
      "|620c87c171fb2a6dd...|      142232| 2.011983959999985E7|            4.36|           100.45|\n",
      "|7d13fca1522535862...|       88807|1.8156881909999993E7|            4.07|           151.18|\n",
      "|a1043bafd471dff53...|      132672|1.7662675979999986E7|            4.25|            37.19|\n",
      "|6560211a19b47992c...|      286539|1.7315932900000006E7|            3.86|            35.04|\n",
      "|edb1ef5e36e0c8cd8...|       38945| 1.662483515000007E7|            4.43|           460.85|\n",
      "|1f50f920176fa81da...|      297292|1.6497454439999709E7|            4.04|             7.39|\n",
      "|5dceca129747e92ff...|       50420| 1.491054833999999E7|            4.17|           299.84|\n",
      "|cc419e0650a3c5ba7...|      256032|1.4751464500000088E7|            4.07|            22.67|\n",
      "|3d871de0142ce09b7...|      175876|1.4184525299999949E7|            4.15|            38.14|\n",
      "+--------------------+------------+--------------------+----------------+-----------------+\n",
      "only showing top 20 rows\n",
      "\n"
     ]
    }
   ],
   "source": [
    "seller_performance_df.show()"
   ]
  },
  {
   "cell_type": "code",
   "execution_count": 71,
   "id": "f87c9baa",
   "metadata": {},
   "outputs": [
    {
     "name": "stdout",
     "output_type": "stream",
     "text": [
      "+--------------------------------+------------+-------------+----------------+-----------------+\n",
      "|seller_id                       |total_orders|total_revenue|avg_review_score|price_variability|\n",
      "+--------------------------------+------------+-------------+----------------+-----------------+\n",
      "|4869f7a5dfa277a7dca6462dcf3b52b2|184587      |36,138,717.32|4.09            |111.65           |\n",
      "|53243585a1d6dc2643021fd1853d8905|54514       |34,291,592.95|4.12            |499.65           |\n",
      "|4a3ca9315b744ce9f8e9374361493884|330661      |33,759,570.84|3.77            |59.37            |\n",
      "|7c67e1448b00f6e969d365cea6b010ab|233306      |32,282,321.79|3.42            |50.39            |\n",
      "|fa1c13f2614d7b5c4749cbc52fecda94|87686       |30,139,386.31|4.38            |307.7            |\n",
      "|da8622b14eb17ae2831f4ac5b9dab84a|264433      |29,857,669.73|3.98            |72.92            |\n",
      "|7e93a43ef30c4f03f38b393420bc753a|50226       |26,315,706.30|4.15            |377.24           |\n",
      "|1025f0e2d44d7041d6cf58b6550e0bfa|229587      |22,937,518.52|3.89            |84.3             |\n",
      "|46dc3b2cc0980fb8ec44634e21d2718e|90426       |21,791,773.29|4.18            |187.49           |\n",
      "|955fee9216a65b617aa5c0531780ce60|232364      |20,964,410.67|4.04            |84.94            |\n",
      "+--------------------------------+------------+-------------+----------------+-----------------+\n",
      "only showing top 10 rows\n",
      "\n"
     ]
    }
   ],
   "source": [
    "from pyspark.sql.functions import format_number\n",
    "\n",
    "seller_performance_df = seller_performance_df.withColumn(\n",
    "    \"total_revenue\", format_number(\"total_revenue\", 2)\n",
    ")\n",
    "seller_performance_df.show(10,truncate=False)"
   ]
  },
  {
   "cell_type": "code",
   "execution_count": 72,
   "id": "09ae6362-18af-448a-8ea7-ac606a7b7e19",
   "metadata": {},
   "outputs": [],
   "source": [
    "# Product Popularity Metrics\n",
    "\n",
    "product_metrics_df = full_orders_df.groupBy('product_id')\\\n",
    ".agg(\n",
    "    count('order_id').alias('total_sales'),\n",
    "    sum('price').alias('total_revenue'),\n",
    "    round(avg('price'),2).alias('avg_price'),\n",
    "    round(stddev('price'),2).alias('price_volatility'),\\\n",
    "    collect_set('seller_id').alias('unique_sellers')    \n",
    ")\\\n",
    ".orderBy(desc('total_sales'))"
   ]
  },
  {
   "cell_type": "code",
   "execution_count": 73,
   "id": "c930d816-96ec-47a7-a8ff-d314b18764f5",
   "metadata": {},
   "outputs": [
    {
     "name": "stdout",
     "output_type": "stream",
     "text": [
      "+--------------------+-----------+------------------+---------+----------------+--------------------+\n",
      "|          product_id|total_sales|     total_revenue|avg_price|price_volatility|      unique_sellers|\n",
      "+--------------------+-----------+------------------+---------+----------------+--------------------+\n",
      "|aca2eb7d00ea1a7b8...|      86740| 6164630.300000002|    71.07|            3.17|[955fee9216a65b61...|\n",
      "|422879e10f4668299...|      81110| 4442791.510000017|    54.77|            4.46|[1f50f920176fa81d...|\n",
      "|99a4788cb24856965...|      78775|        6921762.71|    87.87|            4.08|[4a3ca9315b744ce9...|\n",
      "|389d119b48cf3043d...|      60248|3280533.1300000064|    54.45|            4.37|[1f50f920176fa81d...|\n",
      "|d1c427060a0f73f6b...|      59274| 8220103.329999997|   138.68|           16.58|[a1043bafd471dff5...|\n",
      "|368c6c730842d7801...|      58358|3181698.9000000013|    54.52|            4.59|[1f50f920176fa81d...|\n",
      "|53759a2ecddad2bb8...|      52654| 2893017.500000002|    54.94|            4.52|[1f50f920176fa81d...|\n",
      "|53b36df67ebb7c415...|      52105| 6159887.409999994|   118.22|           20.13|[7d13fca152253586...|\n",
      "|154e7e31ebfa09220...|      42700| 962160.9999999967|    22.53|            1.92|[cc419e0650a3c5ba...|\n",
      "|3dd2a17168ec895c7...|      40787|         6116941.3|   149.97|            0.85|[de722cd6dad950a9...|\n",
      "|e53e557d5a159f5aa...|      39516|        3329353.95|    84.25|           11.32|[6973a06f484aacf4...|\n",
      "|2b4609f8948be1887...|      36179| 3171618.770000001|    87.66|            4.22|[cc419e0650a3c5ba...|\n",
      "|35afc973633aaeb6b...|      31206|  2735669.00000007|    87.66|            3.32|[d20b021d3efdf267...|\n",
      "|e0d64dcfaa3b6db5c...|      31153| 5226407.629999996|   167.77|            30.9|[7d13fca152253586...|\n",
      "|42a2c92a0979a949c...|      30486|1810926.0000000107|     59.4|            0.64|[813348c996469b40...|\n",
      "|7c1bd920dbdf22470...|      29018| 1739338.820000001|    59.94|            2.77|[cc419e0650a3c5ba...|\n",
      "|a62e25e09e05e6faf...|      28898|         3079869.0|   106.58|             1.5|[634964b17796e643...|\n",
      "|5a848e4ab52fd5445...|      28737|3534363.6300000045|   122.99|             0.0|[c826c40d7b19f62a...|\n",
      "|c4baedd846ed09b85...|      28166| 2802044.650000007|    99.48|            11.9|[a1043bafd471dff5...|\n",
      "|b532349fe46b38fbc...|      27176| 993089.5699999988|    36.54|            1.92|[1025f0e2d44d7041...|\n",
      "+--------------------+-----------+------------------+---------+----------------+--------------------+\n",
      "only showing top 20 rows\n",
      "\n"
     ]
    }
   ],
   "source": [
    "product_metrics_df.show()"
   ]
  },
  {
   "cell_type": "code",
   "execution_count": 75,
   "id": "4deb4385-5b19-4183-bda9-05c529252046",
   "metadata": {},
   "outputs": [],
   "source": [
    "# Monthly Revenue and Order Count Trend ----> HW\n",
    "\n",
    "# order_purchase_timestamp ---> month\n",
    "\n",
    "# total_orders \n",
    "# total_revenue\n",
    "# avg_order_value\n",
    "# min_order_value\n",
    "# max_orderValues"
   ]
  },
  {
   "cell_type": "code",
   "execution_count": null,
   "id": "0f377f14-65ff-4013-ac5d-40a78acfe732",
   "metadata": {},
   "outputs": [],
   "source": []
  },
  {
   "cell_type": "code",
   "execution_count": null,
   "id": "39fe3de8-852e-414a-b586-7ddfe732a9dc",
   "metadata": {},
   "outputs": [],
   "source": []
  },
  {
   "cell_type": "code",
   "execution_count": 76,
   "id": "d7194c80-fc7d-4099-afc9-a6b376725ad9",
   "metadata": {},
   "outputs": [],
   "source": [
    "# Customer Retention Analysis ( First & Last Order )\n",
    "\n",
    "customer_retention_df = full_orders_df.groupBy('customer_id')\\\n",
    ".agg(\n",
    "    first('order_purchase_timestamp').alias('first_order_date'),\n",
    "    last('order_purchase_timestamp').alias('last_order_date'),\n",
    "    count('order_id').alias('total_orders'),\n",
    "    round(avg('price'),2).alias('aov')\n",
    ")\\\n",
    ".orderBy(desc('total_orders'))"
   ]
  },
  {
   "cell_type": "code",
   "execution_count": 77,
   "id": "1c1c1904-afd8-47a4-bd90-8a76ff00f1a4",
   "metadata": {},
   "outputs": [
    {
     "name": "stdout",
     "output_type": "stream",
     "text": [
      "+--------------------+-------------------+-------------------+------------+------+\n",
      "|         customer_id|   first_order_date|    last_order_date|total_orders|   aov|\n",
      "+--------------------+-------------------+-------------------+------------+------+\n",
      "|351e40989da90e704...|2017-07-13 10:42:37|2017-07-13 10:42:37|       11427| 85.99|\n",
      "|50920f8cd0681fd86...|2018-01-27 11:28:32|2018-01-27 11:28:32|       10752| 43.82|\n",
      "|9b43e2a62de9bab3a...|2017-05-25 22:27:50|2017-05-25 22:27:50|        8556|  26.4|\n",
      "|270c23a11d024a44c...|2017-08-08 20:26:31|2017-08-08 20:26:31|        8001| 36.59|\n",
      "|d3e82ccec3cb5f956...|2017-03-18 14:28:34|2017-03-18 14:28:34|        6876| 969.0|\n",
      "|5c87184371002d49e...|2018-01-05 19:15:37|2018-01-05 19:15:37|        6876| 12.49|\n",
      "|d5f2b3f597c7ccafb...|2017-12-13 14:21:15|2017-12-13 14:21:15|        6706|  59.0|\n",
      "|c2f18647725395af4...|2018-03-06 19:21:47|2018-03-06 19:21:47|        6612|  34.9|\n",
      "|24e7dc2ff8c071263...|2017-11-24 16:16:45|2017-11-24 16:16:45|        6597|  59.2|\n",
      "|7bb57d182bdc11653...|2018-04-02 17:11:30|2018-04-02 17:11:30|        6258|  86.9|\n",
      "|63b964e79dee32a35...|2018-02-14 16:34:27|2018-02-14 16:34:27|        6072| 412.0|\n",
      "|d22f25a9fadfb1abb...|2018-05-12 12:28:58|2018-05-12 12:28:58|        6072| 14.99|\n",
      "|1ff773612ab8934db...|2018-04-19 13:54:06|2018-04-19 13:54:06|        5820|284.99|\n",
      "|13aa59158da63ba0e...|2017-09-23 14:56:45|2017-09-23 14:56:45|        5206| 79.99|\n",
      "|78fc46047c4a639e8...|2017-11-28 22:24:18|2017-11-28 22:24:18|        5200|109.97|\n",
      "|dd3f1762eb601f41c...|2018-07-18 12:59:21|2018-07-18 12:59:21|        4992|179.99|\n",
      "|a193aa8d905b8e246...|2018-02-12 18:04:28|2018-02-12 18:04:28|        4896|  9.99|\n",
      "|9eb3d566e87289dcb...|2018-06-08 16:42:11|2018-06-08 16:42:11|        4872|  5.11|\n",
      "|2ba91e12e5e4c9f56...|2017-11-25 13:54:39|2017-11-25 13:54:39|        4752|  99.9|\n",
      "|1b2ab6eda1946a6ff...|2017-11-24 10:41:43|2017-11-24 10:41:43|        4728| 32.99|\n",
      "+--------------------+-------------------+-------------------+------------+------+\n",
      "only showing top 20 rows\n",
      "\n"
     ]
    }
   ],
   "source": [
    "customer_retention_df.show()"
   ]
  },
  {
   "cell_type": "code",
   "execution_count": null,
   "id": "0224a3d5-1f01-4677-bd32-c6b7fdf91aef",
   "metadata": {},
   "outputs": [],
   "source": [
    "# HW - Correct the last_order_date"
   ]
  },
  {
   "cell_type": "code",
   "execution_count": null,
   "id": "e296ad63-e0a8-4083-b58a-7a6e0cc3d8f6",
   "metadata": {},
   "outputs": [],
   "source": []
  },
  {
   "cell_type": "code",
   "execution_count": null,
   "id": "2f649ee1-45b1-406c-a425-5eb9f396c486",
   "metadata": {},
   "outputs": [],
   "source": []
  },
  {
   "cell_type": "code",
   "execution_count": null,
   "id": "a9ec1547-642e-44b5-8d78-a09e481995a3",
   "metadata": {},
   "outputs": [],
   "source": []
  },
  {
   "cell_type": "markdown",
   "id": "d5104c33-2be9-42a9-acb3-1dd41fe612f0",
   "metadata": {},
   "source": [
    "# Extended Enrichment "
   ]
  },
  {
   "cell_type": "code",
   "execution_count": null,
   "id": "06df81d7-e05d-41ce-9eea-a45d16e52086",
   "metadata": {},
   "outputs": [],
   "source": []
  },
  {
   "cell_type": "code",
   "execution_count": 79,
   "id": "7375fb45-7696-451c-8812-52512dee1746",
   "metadata": {},
   "outputs": [],
   "source": [
    "# Order Status Flags\n",
    "\n",
    "full_orders_df = full_orders_df.withColumn('is_delivered', when(col('order_status')== 'delivered',lit(1)).otherwise(lit(0)))\\\n",
    ".withColumn('is_canceled', when(col('order_status')== 'canceled',lit(1)).otherwise(lit(0)))"
   ]
  },
  {
   "cell_type": "code",
   "execution_count": 80,
   "id": "f987f30c-e5c4-4586-882b-d37a1e93fc69",
   "metadata": {},
   "outputs": [
    {
     "name": "stdout",
     "output_type": "stream",
     "text": [
      "+------------+------------+-----------+\n",
      "|order_status|is_delivered|is_canceled|\n",
      "+------------+------------+-----------+\n",
      "|    canceled|           0|          1|\n",
      "|    canceled|           0|          1|\n",
      "|    canceled|           0|          1|\n",
      "|    canceled|           0|          1|\n",
      "|    canceled|           0|          1|\n",
      "|    canceled|           0|          1|\n",
      "|    canceled|           0|          1|\n",
      "|    canceled|           0|          1|\n",
      "|    canceled|           0|          1|\n",
      "|    canceled|           0|          1|\n",
      "|    canceled|           0|          1|\n",
      "|    canceled|           0|          1|\n",
      "|    canceled|           0|          1|\n",
      "|    canceled|           0|          1|\n",
      "|    canceled|           0|          1|\n",
      "|    canceled|           0|          1|\n",
      "|    canceled|           0|          1|\n",
      "|    canceled|           0|          1|\n",
      "|    canceled|           0|          1|\n",
      "|    canceled|           0|          1|\n",
      "+------------+------------+-----------+\n",
      "only showing top 20 rows\n",
      "\n"
     ]
    }
   ],
   "source": [
    "full_orders_df.where(full_orders_df['order_status']=='canceled').select('order_status','is_delivered','is_canceled').show(20)"
   ]
  },
  {
   "cell_type": "code",
   "execution_count": 81,
   "id": "4b621287-5256-4c52-b1a7-e4d7e5d70409",
   "metadata": {},
   "outputs": [],
   "source": [
    "# Order Revenue Calcualtion\n",
    "\n",
    "full_orders_df = full_orders_df.withColumn('order_revenue',col('price')+col('freight_value'))"
   ]
  },
  {
   "cell_type": "code",
   "execution_count": 48,
   "id": "82aa7e5a-8a94-4fdd-afe5-eb48758e4cc9",
   "metadata": {},
   "outputs": [
    {
     "name": "stdout",
     "output_type": "stream",
     "text": [
      "+-----+-------------+------------------+\n",
      "|price|freight_value|     order_revenue|\n",
      "+-----+-------------+------------------+\n",
      "| 27.9|         3.81|31.709999999999997|\n",
      "| 27.9|         3.81|31.709999999999997|\n",
      "| 27.9|         3.81|31.709999999999997|\n",
      "| 27.9|         3.81|31.709999999999997|\n",
      "| 27.9|         3.81|31.709999999999997|\n",
      "| 27.9|         3.81|31.709999999999997|\n",
      "| 27.9|         3.81|31.709999999999997|\n",
      "| 27.9|         3.81|31.709999999999997|\n",
      "| 27.9|         3.81|31.709999999999997|\n",
      "| 27.9|         3.81|31.709999999999997|\n",
      "| 27.9|         3.81|31.709999999999997|\n",
      "| 27.9|         3.81|31.709999999999997|\n",
      "| 27.9|         3.81|31.709999999999997|\n",
      "| 27.9|         3.81|31.709999999999997|\n",
      "| 27.9|         3.81|31.709999999999997|\n",
      "| 27.9|         3.81|31.709999999999997|\n",
      "| 27.9|         3.81|31.709999999999997|\n",
      "| 27.9|         3.81|31.709999999999997|\n",
      "| 27.9|         3.81|31.709999999999997|\n",
      "| 27.9|         3.81|31.709999999999997|\n",
      "+-----+-------------+------------------+\n",
      "only showing top 20 rows\n",
      "\n"
     ]
    }
   ],
   "source": [
    "full_orders_df.select('price','freight_value','order_revenue').show()"
   ]
  },
  {
   "cell_type": "code",
   "execution_count": 83,
   "id": "b751baa8-710b-4821-9464-bfd24ec2be24",
   "metadata": {},
   "outputs": [
    {
     "name": "stdout",
     "output_type": "stream",
     "text": [
      "root\n",
      " |-- customer_id: string (nullable = true)\n",
      " |-- total_orders: long (nullable = false)\n",
      " |-- total_spent: double (nullable = true)\n",
      " |-- AOV: double (nullable = true)\n",
      "\n"
     ]
    }
   ],
   "source": [
    "customer_spending_df.printSchema()"
   ]
  },
  {
   "cell_type": "code",
   "execution_count": 84,
   "id": "9ada0d65-49b8-49b4-886b-0ff28dbc087d",
   "metadata": {},
   "outputs": [],
   "source": [
    "# Customer Segmentation based on spending\n",
    "\n",
    "customer_spending_df = customer_spending_df.withColumn(\n",
    "    'customer_segment',\n",
    "    when(col('AOV') >=1200,\"High-Value\")\n",
    "    .when( (col('AOV')<1200) & (col('AOV') >=700),'Medium_Value')\n",
    "    .otherwise('Low-Value'))\n"
   ]
  },
  {
   "cell_type": "code",
   "execution_count": 85,
   "id": "23903495-68f1-48f5-9287-aaed79873810",
   "metadata": {},
   "outputs": [
    {
     "name": "stdout",
     "output_type": "stream",
     "text": [
      "+--------------------+------------+------------------+-------+----------------+\n",
      "|         customer_id|total_orders|       total_spent|    AOV|customer_segment|\n",
      "+--------------------+------------+------------------+-------+----------------+\n",
      "|d3e82ccec3cb5f956...|        6876|         6662844.0|  969.0|    Medium_Value|\n",
      "|df55c14d1476a9a34...|         743|         3565657.0| 4799.0|      High-Value|\n",
      "|fe5113a38e3575c04...|        2292|         3293604.0| 1437.0|      High-Value|\n",
      "|ec5b2ba62e5743423...|        1428|         2556120.0| 1790.0|      High-Value|\n",
      "|63b964e79dee32a35...|        6072|         2501664.0|  412.0|       Low-Value|\n",
      "|46bb3c0b1a65c8399...|         748|         2336752.0| 3124.0|      High-Value|\n",
      "|05455dfa7cd02f13d...|        2184| 2160194.400000087|  989.1|    Medium_Value|\n",
      "|3690e975641f01bd0...|         802|         2124498.0| 2649.0|      High-Value|\n",
      "|349509b216bd5ec11...|         743|         1923627.0| 2589.0|      High-Value|\n",
      "|695476b5848d64ba0...|         687|1820543.1299999943|2649.99|      High-Value|\n",
      "|73236a0796f53d60d...|         832|         1755520.0| 2110.0|      High-Value|\n",
      "|cc803a2c412833101...|         762|         1676400.0| 2200.0|      High-Value|\n",
      "|1ff773612ab8934db...|        5820|1658641.7999999512| 284.99|       Low-Value|\n",
      "|fced842c7dad61e8c...|         602|         1654898.0| 2749.0|      High-Value|\n",
      "|1ecb47d23dc8203cd...|        1164|1629588.3599999903|1399.99|      High-Value|\n",
      "|de832e8dbb1f588a4...|        2190|1584990.5999999817| 723.74|    Medium_Value|\n",
      "|803cd9b04f9cd252c...|         488|         1512312.0| 3099.0|      High-Value|\n",
      "|d72181923840c8895...|        2721|1488114.8999999566|  546.9|       Low-Value|\n",
      "|06d478ba352a27a51...|        1146|         1461150.0| 1275.0|      High-Value|\n",
      "|0049e8442c2a3e4a8...|        1204|         1444800.0| 1200.0|      High-Value|\n",
      "+--------------------+------------+------------------+-------+----------------+\n",
      "only showing top 20 rows\n",
      "\n"
     ]
    }
   ],
   "source": [
    "customer_spending_df.show()"
   ]
  },
  {
   "cell_type": "code",
   "execution_count": 86,
   "id": "e5d57f20-40ec-4f87-a050-ca961370322a",
   "metadata": {},
   "outputs": [],
   "source": [
    "full_orders_df = full_orders_df.join(customer_spending_df.select('customer_id','customer_segment'),'customer_id',how='left')"
   ]
  },
  {
   "cell_type": "code",
   "execution_count": 87,
   "id": "459eaa22-f013-46f6-b814-7c4e5c29bdf3",
   "metadata": {},
   "outputs": [
    {
     "name": "stdout",
     "output_type": "stream",
     "text": [
      "+--------------------+----------------+\n",
      "|         customer_id|customer_segment|\n",
      "+--------------------+----------------+\n",
      "|2de342d6e5905a5a8...|       Low-Value|\n",
      "|2de342d6e5905a5a8...|       Low-Value|\n",
      "|2de342d6e5905a5a8...|       Low-Value|\n",
      "|2de342d6e5905a5a8...|       Low-Value|\n",
      "|2de342d6e5905a5a8...|       Low-Value|\n",
      "|2de342d6e5905a5a8...|       Low-Value|\n",
      "|2de342d6e5905a5a8...|       Low-Value|\n",
      "|2de342d6e5905a5a8...|       Low-Value|\n",
      "|2de342d6e5905a5a8...|       Low-Value|\n",
      "|2de342d6e5905a5a8...|       Low-Value|\n",
      "|2de342d6e5905a5a8...|       Low-Value|\n",
      "|2de342d6e5905a5a8...|       Low-Value|\n",
      "|2de342d6e5905a5a8...|       Low-Value|\n",
      "|2de342d6e5905a5a8...|       Low-Value|\n",
      "|2de342d6e5905a5a8...|       Low-Value|\n",
      "|2de342d6e5905a5a8...|       Low-Value|\n",
      "|2de342d6e5905a5a8...|       Low-Value|\n",
      "|2de342d6e5905a5a8...|       Low-Value|\n",
      "|2de342d6e5905a5a8...|       Low-Value|\n",
      "|2de342d6e5905a5a8...|       Low-Value|\n",
      "+--------------------+----------------+\n",
      "only showing top 20 rows\n",
      "\n"
     ]
    }
   ],
   "source": [
    "full_orders_df.select('customer_id','customer_segment').show()"
   ]
  },
  {
   "cell_type": "code",
   "execution_count": 88,
   "id": "f18cc0ea-def6-4592-97c0-bd010d1b6b45",
   "metadata": {},
   "outputs": [
    {
     "name": "stdout",
     "output_type": "stream",
     "text": [
      "+------------------------+\n",
      "|order_purchase_timestamp|\n",
      "+------------------------+\n",
      "|     2017-07-26 17:38:47|\n",
      "|     2017-07-26 17:38:47|\n",
      "|     2017-07-26 17:38:47|\n",
      "|     2017-07-26 17:38:47|\n",
      "|     2017-07-26 17:38:47|\n",
      "|     2017-07-26 17:38:47|\n",
      "|     2017-07-26 17:38:47|\n",
      "|     2017-07-26 17:38:47|\n",
      "|     2017-07-26 17:38:47|\n",
      "|     2017-07-26 17:38:47|\n",
      "|     2017-07-26 17:38:47|\n",
      "|     2017-07-26 17:38:47|\n",
      "|     2017-07-26 17:38:47|\n",
      "|     2017-07-26 17:38:47|\n",
      "|     2017-07-26 17:38:47|\n",
      "|     2017-07-26 17:38:47|\n",
      "|     2017-07-26 17:38:47|\n",
      "|     2017-07-26 17:38:47|\n",
      "|     2017-07-26 17:38:47|\n",
      "|     2017-07-26 17:38:47|\n",
      "+------------------------+\n",
      "only showing top 20 rows\n",
      "\n"
     ]
    }
   ],
   "source": [
    "full_orders_df.select('order_purchase_timestamp').show()"
   ]
  },
  {
   "cell_type": "code",
   "execution_count": 89,
   "id": "8197a2a3-737e-45ed-a3e6-833d46cd4d8f",
   "metadata": {},
   "outputs": [],
   "source": [
    "#Hourly Order Distribution\n",
    "full_orders_df = full_orders_df.withColumn('hour_of_day',expr('hour(order_purchase_timestamp)'))\n"
   ]
  },
  {
   "cell_type": "code",
   "execution_count": 90,
   "id": "bfb1a8de-3295-4bec-be06-88da370135e8",
   "metadata": {},
   "outputs": [
    {
     "name": "stdout",
     "output_type": "stream",
     "text": [
      "+------------------------+-----------+\n",
      "|order_purchase_timestamp|hour_of_day|\n",
      "+------------------------+-----------+\n",
      "|     2017-07-26 17:38:47|         17|\n",
      "|     2017-07-26 17:38:47|         17|\n",
      "|     2017-07-26 17:38:47|         17|\n",
      "|     2017-07-26 17:38:47|         17|\n",
      "|     2017-07-26 17:38:47|         17|\n",
      "|     2017-07-26 17:38:47|         17|\n",
      "|     2017-07-26 17:38:47|         17|\n",
      "|     2017-07-26 17:38:47|         17|\n",
      "|     2017-07-26 17:38:47|         17|\n",
      "|     2017-07-26 17:38:47|         17|\n",
      "|     2017-07-26 17:38:47|         17|\n",
      "|     2017-07-26 17:38:47|         17|\n",
      "|     2017-07-26 17:38:47|         17|\n",
      "|     2017-07-26 17:38:47|         17|\n",
      "|     2017-07-26 17:38:47|         17|\n",
      "|     2017-07-26 17:38:47|         17|\n",
      "|     2017-07-26 17:38:47|         17|\n",
      "|     2017-07-26 17:38:47|         17|\n",
      "|     2017-07-26 17:38:47|         17|\n",
      "|     2017-07-26 17:38:47|         17|\n",
      "+------------------------+-----------+\n",
      "only showing top 20 rows\n",
      "\n"
     ]
    }
   ],
   "source": [
    "full_orders_df.select('order_purchase_timestamp','hour_of_day').show()"
   ]
  },
  {
   "cell_type": "code",
   "execution_count": 91,
   "id": "362e7908-6e79-48c2-b099-c51ea38cd4fb",
   "metadata": {},
   "outputs": [],
   "source": [
    "# Weekday vs Weekend Order\n",
    "\n",
    "full_orders_df = full_orders_df.withColumn('order_day_type',\\\n",
    "                                           when(dayofweek('order_purchase_timestamp').isin(1,7),lit('Weekend')).otherwise(lit('weekday')))"
   ]
  },
  {
   "cell_type": "code",
   "execution_count": 92,
   "id": "7858b2de-436f-4d5b-8621-2ca024958d90",
   "metadata": {},
   "outputs": [
    {
     "name": "stdout",
     "output_type": "stream",
     "text": [
      "+------------------------+--------------+\n",
      "|order_purchase_timestamp|order_day_type|\n",
      "+------------------------+--------------+\n",
      "|     2017-07-26 17:38:47|       weekday|\n",
      "|     2017-07-26 17:38:47|       weekday|\n",
      "|     2017-07-26 17:38:47|       weekday|\n",
      "|     2017-07-26 17:38:47|       weekday|\n",
      "|     2017-07-26 17:38:47|       weekday|\n",
      "|     2017-07-26 17:38:47|       weekday|\n",
      "|     2017-07-26 17:38:47|       weekday|\n",
      "|     2017-07-26 17:38:47|       weekday|\n",
      "|     2017-07-26 17:38:47|       weekday|\n",
      "|     2017-07-26 17:38:47|       weekday|\n",
      "|     2017-07-26 17:38:47|       weekday|\n",
      "|     2017-07-26 17:38:47|       weekday|\n",
      "|     2017-07-26 17:38:47|       weekday|\n",
      "|     2017-07-26 17:38:47|       weekday|\n",
      "|     2017-07-26 17:38:47|       weekday|\n",
      "|     2017-07-26 17:38:47|       weekday|\n",
      "|     2017-07-26 17:38:47|       weekday|\n",
      "|     2017-07-26 17:38:47|       weekday|\n",
      "|     2017-07-26 17:38:47|       weekday|\n",
      "|     2017-07-26 17:38:47|       weekday|\n",
      "+------------------------+--------------+\n",
      "only showing top 20 rows\n",
      "\n"
     ]
    }
   ],
   "source": [
    "full_orders_df.select('order_purchase_timestamp','order_day_type').show()"
   ]
  },
  {
   "cell_type": "code",
   "execution_count": 93,
   "id": "2aadf3cb-fcdc-4d75-be10-17340ac4b3b1",
   "metadata": {},
   "outputs": [
    {
     "name": "stdout",
     "output_type": "stream",
     "text": [
      "root\n",
      " |-- customer_id: string (nullable = true)\n",
      " |-- order_id: string (nullable = true)\n",
      " |-- seller_id: string (nullable = true)\n",
      " |-- product_id: string (nullable = true)\n",
      " |-- order_status: string (nullable = true)\n",
      " |-- order_purchase_timestamp: timestamp (nullable = true)\n",
      " |-- order_approved_at: timestamp (nullable = true)\n",
      " |-- order_delivered_carrier_date: timestamp (nullable = true)\n",
      " |-- order_delivered_customer_date: timestamp (nullable = true)\n",
      " |-- order_estimated_delivery_date: timestamp (nullable = true)\n",
      " |-- order_item_id: integer (nullable = true)\n",
      " |-- shipping_limit_date: timestamp (nullable = true)\n",
      " |-- price: double (nullable = true)\n",
      " |-- freight_value: double (nullable = true)\n",
      " |-- product_category_name: string (nullable = true)\n",
      " |-- product_name_lenght: integer (nullable = true)\n",
      " |-- product_description_lenght: integer (nullable = true)\n",
      " |-- product_photos_qty: integer (nullable = true)\n",
      " |-- product_weight_g: integer (nullable = true)\n",
      " |-- product_length_cm: integer (nullable = true)\n",
      " |-- product_height_cm: integer (nullable = true)\n",
      " |-- product_width_cm: integer (nullable = true)\n",
      " |-- seller_zip_code_prefix: integer (nullable = true)\n",
      " |-- seller_city: string (nullable = true)\n",
      " |-- seller_state: string (nullable = true)\n",
      " |-- customer_unique_id: string (nullable = true)\n",
      " |-- customer_zip_code_prefix: integer (nullable = true)\n",
      " |-- customer_city: string (nullable = true)\n",
      " |-- customer_state: string (nullable = true)\n",
      " |-- geolocation_zip_code_prefix: integer (nullable = true)\n",
      " |-- geolocation_lat: double (nullable = true)\n",
      " |-- geolocation_lng: double (nullable = true)\n",
      " |-- geolocation_city: string (nullable = true)\n",
      " |-- geolocation_state: string (nullable = true)\n",
      " |-- review_id: string (nullable = true)\n",
      " |-- review_score: string (nullable = true)\n",
      " |-- review_comment_title: string (nullable = true)\n",
      " |-- review_comment_message: string (nullable = true)\n",
      " |-- review_creation_date: string (nullable = true)\n",
      " |-- review_answer_timestamp: string (nullable = true)\n",
      " |-- payment_sequential: integer (nullable = true)\n",
      " |-- payment_type: string (nullable = true)\n",
      " |-- payment_installments: integer (nullable = true)\n",
      " |-- payment_value: double (nullable = true)\n",
      " |-- is_delivered: integer (nullable = false)\n",
      " |-- is_canceled: integer (nullable = false)\n",
      " |-- order_revenue: double (nullable = true)\n",
      " |-- customer_segment: string (nullable = true)\n",
      " |-- hour_of_day: integer (nullable = true)\n",
      " |-- order_day_type: string (nullable = false)\n",
      "\n"
     ]
    }
   ],
   "source": [
    "full_orders_df.printSchema()"
   ]
  },
  {
   "cell_type": "code",
   "execution_count": 94,
   "id": "dc10eb4e-edd2-4eb0-a07a-f576c174fb8b",
   "metadata": {},
   "outputs": [],
   "source": [
    "# a new column frieght category  based on freight_value --> low, med or high"
   ]
  },
  {
   "cell_type": "code",
   "execution_count": 95,
   "id": "5ae6bdfb-b880-44a0-83bf-11cddf2cda28",
   "metadata": {},
   "outputs": [],
   "source": [
    "# Order Volume by Customer State"
   ]
  },
  {
   "cell_type": "code",
   "execution_count": 99,
   "id": "6b9d3b44-c9ba-41cd-ba28-a912a53b00b8",
   "metadata": {},
   "outputs": [
    {
     "data": {
      "text/plain": [
       "11"
      ]
     },
     "execution_count": 99,
     "metadata": {},
     "output_type": "execute_result"
    }
   ],
   "source": [
    "full_orders_df.rdd.getNumPartitions()\n"
   ]
  },
  {
   "cell_type": "code",
   "execution_count": 105,
   "id": "f7c9f3d7-f22b-448d-90da-31c13d5c1a59",
   "metadata": {},
   "outputs": [],
   "source": [
    "!mkdir /home/jupyter/data/Datasets/output"
   ]
  },
  {
   "cell_type": "code",
   "execution_count": 106,
   "id": "0d78ee78-9617-4ab7-ad5e-9f6d6ba95372",
   "metadata": {},
   "outputs": [],
   "source": [
    "full_orders_df.write.mode('overwrite').parquet('/home/jupyter/data/Datasets/output')"
   ]
  },
  {
   "cell_type": "code",
   "execution_count": 108,
   "id": "c55e0f26-afee-460a-bfa1-0a1420fa3aad",
   "metadata": {},
   "outputs": [
    {
     "name": "stdout",
     "output_type": "stream",
     "text": [
      "total 249M\n",
      "-rw-r--r-- 1 root root 23M Oct 21 15:06 part-00006-c1cfe003-6c77-4643-a842-d01e8e1eee6b-c000.snappy.parquet\n",
      "-rw-r--r-- 1 root root 23M Oct 21 15:06 part-00003-c1cfe003-6c77-4643-a842-d01e8e1eee6b-c000.snappy.parquet\n",
      "-rw-r--r-- 1 root root 23M Oct 21 15:06 part-00002-c1cfe003-6c77-4643-a842-d01e8e1eee6b-c000.snappy.parquet\n",
      "-rw-r--r-- 1 root root 23M Oct 21 15:06 part-00004-c1cfe003-6c77-4643-a842-d01e8e1eee6b-c000.snappy.parquet\n",
      "-rw-r--r-- 1 root root 23M Oct 21 15:06 part-00005-c1cfe003-6c77-4643-a842-d01e8e1eee6b-c000.snappy.parquet\n",
      "-rw-r--r-- 1 root root 23M Oct 21 15:06 part-00007-c1cfe003-6c77-4643-a842-d01e8e1eee6b-c000.snappy.parquet\n",
      "-rw-r--r-- 1 root root 24M Oct 21 15:06 part-00000-c1cfe003-6c77-4643-a842-d01e8e1eee6b-c000.snappy.parquet\n",
      "-rw-r--r-- 1 root root 24M Oct 21 15:06 part-00001-c1cfe003-6c77-4643-a842-d01e8e1eee6b-c000.snappy.parquet\n",
      "-rw-r--r-- 1 root root 23M Oct 21 15:06 part-00008-c1cfe003-6c77-4643-a842-d01e8e1eee6b-c000.snappy.parquet\n",
      "-rw-r--r-- 1 root root 22M Oct 21 15:06 part-00010-c1cfe003-6c77-4643-a842-d01e8e1eee6b-c000.snappy.parquet\n",
      "-rw-r--r-- 1 root root 23M Oct 21 15:06 part-00009-c1cfe003-6c77-4643-a842-d01e8e1eee6b-c000.snappy.parquet\n",
      "-rw-r--r-- 1 root root   0 Oct 21 15:06 _SUCCESS\n"
     ]
    }
   ],
   "source": [
    "!ls -lrt -h /home/jupyter/data/Datasets/output"
   ]
  },
  {
   "cell_type": "code",
   "execution_count": null,
   "id": "d7e35f14",
   "metadata": {},
   "outputs": [],
   "source": []
  }
 ],
 "metadata": {
  "kernelspec": {
   "display_name": "Python 3 (ipykernel)",
   "language": "python",
   "name": "python3"
  },
  "language_info": {
   "codemirror_mode": {
    "name": "ipython",
    "version": 3
   },
   "file_extension": ".py",
   "mimetype": "text/x-python",
   "name": "python",
   "nbconvert_exporter": "python",
   "pygments_lexer": "ipython3",
   "version": "3.7.17"
  }
 },
 "nbformat": 4,
 "nbformat_minor": 5
}
