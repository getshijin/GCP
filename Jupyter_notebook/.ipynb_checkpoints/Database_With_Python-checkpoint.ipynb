{
 "cells": [
  {
   "cell_type": "markdown",
   "id": "367f6d39-8e50-4fd7-b062-457a52e818ec",
   "metadata": {},
   "source": [
    "SQL and lite"
   ]
  },
  {
   "cell_type": "code",
   "execution_count": 2,
   "id": "4abe015c-a4a9-4950-b900-aedabf2c2205",
   "metadata": {},
   "outputs": [],
   "source": [
    "import sqlite3"
   ]
  },
  {
   "cell_type": "code",
   "execution_count": 4,
   "id": "fdbc3dfd-09ea-44e4-b4d9-48b2e24563e4",
   "metadata": {},
   "outputs": [],
   "source": [
    "connection=sqlite3.connect('shop.db')"
   ]
  },
  {
   "cell_type": "code",
   "execution_count": 5,
   "id": "9c6276e8-0036-4e60-a317-3a4a2399f31e",
   "metadata": {},
   "outputs": [
    {
     "data": {
      "text/plain": [
       "<sqlite3.Connection at 0x1e8a90427b0>"
      ]
     },
     "execution_count": 5,
     "metadata": {},
     "output_type": "execute_result"
    }
   ],
   "source": [
    "connection"
   ]
  },
  {
   "cell_type": "code",
   "execution_count": 6,
   "id": "2edef10b-50ea-45f4-ae60-c86ae477c35c",
   "metadata": {},
   "outputs": [],
   "source": [
    "cursor=connection.cursor()"
   ]
  },
  {
   "cell_type": "code",
   "execution_count": 8,
   "id": "8a9f097e-ab24-4b19-9c60-77d44b96822e",
   "metadata": {},
   "outputs": [
    {
     "data": {
      "text/plain": [
       "<sqlite3.Cursor at 0x1e8a901e730>"
      ]
     },
     "execution_count": 8,
     "metadata": {},
     "output_type": "execute_result"
    }
   ],
   "source": [
    "###create a table\n",
    "cursor.execute(\"\"\"create table if not exists employees_table\n",
    "(\n",
    "Id Integer Primary Key,\n",
    "Name Text Not Null,\n",
    "age Integer,\n",
    "department text\n",
    ")\"\"\")"
   ]
  },
  {
   "cell_type": "code",
   "execution_count": 10,
   "id": "95ddbcc2-045d-4f25-b407-3a095c960947",
   "metadata": {},
   "outputs": [],
   "source": [
    "connection.commit()"
   ]
  },
  {
   "cell_type": "code",
   "execution_count": 14,
   "id": "8d08fe47-0255-40ce-99d0-d6cccc343aa5",
   "metadata": {},
   "outputs": [
    {
     "data": {
      "text/plain": [
       "<sqlite3.Cursor at 0x1e8a901e730>"
      ]
     },
     "execution_count": 14,
     "metadata": {},
     "output_type": "execute_result"
    }
   ],
   "source": [
    "cursor.execute('select * from employees_table')"
   ]
  },
  {
   "cell_type": "code",
   "execution_count": 16,
   "id": "c9030a20-e30d-4cb9-b008-2b91b78d28c2",
   "metadata": {},
   "outputs": [
    {
     "data": {
      "text/plain": [
       "<sqlite3.Cursor at 0x1e8a901e730>"
      ]
     },
     "execution_count": 16,
     "metadata": {},
     "output_type": "execute_result"
    }
   ],
   "source": [
    "#insert into sqlite table\n",
    "\n",
    "cursor.execute(\"\"\"insert into employees_table (Name ,age ,department) values('shijin',34,'DE')\"\"\")"
   ]
  },
  {
   "cell_type": "code",
   "execution_count": 18,
   "id": "7c5b68cc-1d09-4856-af66-46dcaf6e1694",
   "metadata": {},
   "outputs": [
    {
     "data": {
      "text/plain": [
       "<sqlite3.Cursor at 0x1e8a901e730>"
      ]
     },
     "execution_count": 18,
     "metadata": {},
     "output_type": "execute_result"
    }
   ],
   "source": [
    "cursor.execute(\"\"\"insert into employees_table (Name ,age ,department) values('amma',54,'DAE')\"\"\")\n",
    "cursor.execute(\"\"\"insert into employees_table (Name ,age ,department) values('Anju',31,'DED')\"\"\")\n",
    "cursor.execute(\"\"\"insert into employees_table (Name ,age ,department) values('shimin',39,'DGE')\"\"\")\n",
    "cursor.execute(\"\"\"insert into employees_table (Name ,age ,department) values('Sravan',30,'DEH')\"\"\")"
   ]
  },
  {
   "cell_type": "code",
   "execution_count": 19,
   "id": "0324be94-2376-4d50-b9df-020690affcb3",
   "metadata": {},
   "outputs": [
    {
     "name": "stdout",
     "output_type": "stream",
     "text": [
      "(1, 'shijin', 34, 'DE')\n",
      "(2, 'amma', 54, 'DAE')\n",
      "(3, 'Anju', 31, 'DED')\n",
      "(4, 'shimin', 39, 'DGE')\n",
      "(5, 'Sravan', 30, 'DEH')\n"
     ]
    }
   ],
   "source": [
    "##quering data from the table cursor.execute('select * from employees_table')\n",
    "\n",
    "cursor.execute('select * from employees_table')\n",
    "rows=cursor.fetchall()\n",
    "\n",
    "##print the data\n",
    "for row in rows:\n",
    "    print(row)"
   ]
  },
  {
   "cell_type": "code",
   "execution_count": null,
   "id": "6195696c-9c61-4c4b-900d-e793865ca1a2",
   "metadata": {},
   "outputs": [],
   "source": []
  },
  {
   "cell_type": "code",
   "execution_count": null,
   "id": "2f54e3b4-e32c-44fa-a56c-8bd442ff434c",
   "metadata": {},
   "outputs": [],
   "source": []
  }
 ],
 "metadata": {
  "kernelspec": {
   "display_name": "Python 3 (ipykernel)",
   "language": "python",
   "name": "python3"
  },
  "language_info": {
   "codemirror_mode": {
    "name": "ipython",
    "version": 3
   },
   "file_extension": ".py",
   "mimetype": "text/x-python",
   "name": "python",
   "nbconvert_exporter": "python",
   "pygments_lexer": "ipython3",
   "version": "3.9.21"
  }
 },
 "nbformat": 4,
 "nbformat_minor": 5
}
