{
 "cells": [
  {
   "cell_type": "code",
   "execution_count": 1,
   "id": "31075d07-f44c-477b-b41b-59cee11f607a",
   "metadata": {},
   "outputs": [
    {
     "name": "stderr",
     "output_type": "stream",
     "text": [
      "DEBUG:root:this is a debug message\n",
      "ERROR:root:this is a debug message\n",
      "INFO:root:this is a debug message\n",
      "WARNING:root:this is a debug message\n",
      "CRITICAL:root:this is a debug message\n"
     ]
    }
   ],
   "source": [
    "import logging\n",
    "\n",
    "##Configure basic config\n",
    "\n",
    "logging.basicConfig(level=logging.DEBUG)\n",
    "\n",
    "#log meesages\n",
    "logging.debug('this is a debug message')\n",
    "logging.error('this is a debug message')\n",
    "logging.info('this is a debug message')\n",
    "logging.warning('this is a debug message')\n",
    "logging.critical('this is a debug message')"
   ]
  },
  {
   "cell_type": "code",
   "execution_count": 2,
   "id": "3133193e-099e-47ea-9784-21225b6077bb",
   "metadata": {},
   "outputs": [],
   "source": [
    "import logging\n",
    "\n",
    "##Configure basic config\n",
    "# \n",
    "logging.basicConfig(level=logging.DEBUG,\n",
    "filename='app.log', \n",
    "filemode='w', \n",
    "format='%(asctime)s -%(name)s- %(levelname)s - %(message)s'\n",
    ")"
   ]
  },
  {
   "cell_type": "code",
   "execution_count": 3,
   "id": "2a045412",
   "metadata": {},
   "outputs": [],
   "source": [
    "#log meesages\n",
    "logging.debug('this is a debug message')\n",
    "logging.error('this is a debug message')\n",
    "logging.info('this is a debug message')\n",
    "logging.warning('this is a debug message')\n",
    "logging.critical('this is a debug message')"
   ]
  },
  {
   "cell_type": "code",
   "execution_count": 4,
   "id": "373722ae",
   "metadata": {},
   "outputs": [],
   "source": [
    "#log meesages\n",
    "logging.debug('this is a debug message')\n",
    "logging.error('this is a debug message')\n",
    "logging.info('this is a debug message')\n",
    "logging.warning('this is a debug message')\n",
    "logging.critical('this is a debug message')"
   ]
  },
  {
   "cell_type": "markdown",
   "id": "3aa2565f",
   "metadata": {},
   "source": [
    "#Logging with multiple loggers"
   ]
  },
  {
   "cell_type": "markdown",
   "id": "7b61d98d",
   "metadata": {},
   "source": []
  },
  {
   "cell_type": "code",
   "execution_count": null,
   "id": "f5b2455e",
   "metadata": {},
   "outputs": [],
   "source": [
    "import logging\n",
    "\n",
    "#create a logger for module 1\n",
    "logger1 = logging.getLogger('module1')\n",
    "logger1.setLevel(logging.DEBUG)\n",
    "\n",
    "#create a logger for module 2\n",
    "logger2 = logging.getLogger('module2')\n",
    "logger2.setLevel(logging.ERROR)\n",
    "\n",
    "#configure handler and formatter\n",
    "logging.basicConfig(level=logging.DEBUG,\n",
    "filename='app.log',\n",
    "filemode='w',\n",
    "format='%(asctime)s - %(name)s - %(levelname)s - %(message)s'\n",
    ")\n",
    "\n"
   ]
  },
  {
   "cell_type": "code",
   "execution_count": 8,
   "id": "f824d310",
   "metadata": {},
   "outputs": [],
   "source": [
    "\n",
    "#log messages using logger1\n",
    "logger1.debug('this is a debug message from module 1')\n",
    "logger1.error('this is an error message from module 1')\n",
    "logger1.info('this is an info message from module 1')\n",
    "logger1.warning('this is a warning message from module 1')\n",
    "logger1.critical('this is a critical message from module 1')\n",
    "#log messages using logger2\n",
    "logger2.debug('this is a debug message from module 2')\n",
    "logger2.error('this is an error message from module 2')\n",
    "logger2.info('this is an info message from module 2')\n",
    "logger2.warning('this is a warning message from module 2')\n",
    "logger2.critical('this is a critical message from module 2')\n",
    "#!/usr/bin/env python3\n"
   ]
  },
  {
   "cell_type": "code",
   "execution_count": null,
   "id": "1952393a",
   "metadata": {},
   "outputs": [],
   "source": []
  }
 ],
 "metadata": {
  "kernelspec": {
   "display_name": "Python 3 (ipykernel)",
   "language": "python",
   "name": "python3"
  },
  "language_info": {
   "codemirror_mode": {
    "name": "ipython",
    "version": 3
   },
   "file_extension": ".py",
   "mimetype": "text/x-python",
   "name": "python",
   "nbconvert_exporter": "python",
   "pygments_lexer": "ipython3",
   "version": "3.9.21"
  }
 },
 "nbformat": 4,
 "nbformat_minor": 5
}
